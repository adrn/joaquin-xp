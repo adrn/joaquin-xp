{
 "cells": [
  {
   "cell_type": "markdown",
   "id": "24b6ea29",
   "metadata": {},
   "source": [
    "# Schlummernd: Linear Latent Variable Model\n",
    "See the Text.\n",
    "\n",
    "## TODO / questions\n",
    "- "
   ]
  },
  {
   "cell_type": "code",
   "execution_count": null,
   "id": "b53898a4",
   "metadata": {},
   "outputs": [],
   "source": [
    "import pathlib\n",
    "import corner\n",
    "import astropy.coordinates as coord\n",
    "from astropy.stats import median_absolute_deviation as MAD\n",
    "import astropy.table as at\n",
    "import astropy.units as u\n",
    "import matplotlib as mpl\n",
    "import matplotlib.pyplot as plt\n",
    "%matplotlib inline\n",
    "import numpy as np\n",
    "import h5py\n",
    "from tqdm import tqdm\n",
    "from sklearn.neighbors import KDTree\n",
    "from pyia import GaiaData\n",
    "from scipy.stats import binned_statistic\n",
    "\n",
    "from jax.config import config\n",
    "config.update(\"jax_enable_x64\", True)\n",
    "import jaxopt\n",
    "import optax\n",
    "\n",
    "from schlummernd import LinearLVM\n",
    "from schlummernd.data import load_data, Features, Labels"
   ]
  },
  {
   "cell_type": "markdown",
   "id": "21437b0d",
   "metadata": {},
   "source": [
    "# Load APOGEE x Gaia data\n",
    "\n",
    "see `Assemble-data.ipynb` for more information."
   ]
  },
  {
   "cell_type": "code",
   "execution_count": null,
   "id": "ec653859",
   "metadata": {},
   "outputs": [],
   "source": [
    "# Upper giant branch:\n",
    "g_all = load_data(\n",
    "    filters=dict(\n",
    "        TEFF=(3000, 5100), \n",
    "        LOGG=(-0.5, 2.3),\n",
    "        M_H=(-3, None),\n",
    "        phot_g_mean_mag=(None, 15.5*u.mag),\n",
    "        AK_WISE=(-0.1, None)\n",
    "    )\n",
    ")\n",
    "\n",
    "# For red clump instead:\n",
    "# g_all = load_data(\n",
    "#     filters=dict(\n",
    "#         TEFF=(4500, 5100), \n",
    "#         LOGG=(2.3, 2.6),\n",
    "#         M_H=(-3, None),\n",
    "#         phot_g_mean_mag=(None, 15.*u.mag),\n",
    "#         AK_WISE=(-0.1, None),\n",
    "#         # HACK:\n",
    "#         TEFF_ERR=(0, 75),\n",
    "#         M_H_ERR=(0, 0.05),\n",
    "#     )\n",
    "# )"
   ]
  },
  {
   "cell_type": "code",
   "execution_count": null,
   "id": "39e957e3",
   "metadata": {},
   "outputs": [],
   "source": [
    "g = g_all[(np.abs(g_all.b) > 15*u.deg) & (g_all.SFD_EBV < 0.2)]\n",
    "len(g)"
   ]
  },
  {
   "cell_type": "code",
   "execution_count": null,
   "id": "02123e33",
   "metadata": {},
   "outputs": [],
   "source": [
    "bprp = (g.phot_bp_mean_mag - g.phot_rp_mean_mag).value\n",
    "mg = (g.phot_g_mean_mag - g.get_distance(allow_negative=True).distmod).value"
   ]
  },
  {
   "cell_type": "code",
   "execution_count": null,
   "id": "e696143e",
   "metadata": {},
   "outputs": [],
   "source": [
    "fig, axes = plt.subplots(1, 2, figsize=(10, 5))\n",
    "\n",
    "ax = axes[0]\n",
    "H, xb, yb, _ = ax.hist2d(\n",
    "    g.TEFF,\n",
    "    g.LOGG,\n",
    "    bins=(\n",
    "        np.linspace(3000, 8000, 128),\n",
    "        np.linspace(-0.5, 5.5, 128)\n",
    "    ),\n",
    "    norm=mpl.colors.LogNorm()\n",
    ")\n",
    "ax.set_xlim(xb.max(), xb.min())\n",
    "ax.set_ylim(yb.max(), yb.min())\n",
    "ax.set_xlabel('TEFF')\n",
    "ax.set_ylabel('LOGG')\n",
    "\n",
    "ax = axes[1]\n",
    "H, xb, yb, _ = ax.hist2d(\n",
    "    bprp,\n",
    "    mg,\n",
    "    bins=(\n",
    "        np.linspace(-0.5, 3, 128),\n",
    "        np.linspace(-4, 10.5, 128)\n",
    "    ),\n",
    "    norm=mpl.colors.LogNorm()\n",
    ")\n",
    "ax.set_xlim(xb.min(), xb.max())\n",
    "ax.set_ylim(yb.max(), yb.min())\n",
    "ax.set_xlabel('BP-RP')\n",
    "ax.set_ylabel('$M_G$')\n",
    "\n",
    "fig.tight_layout()"
   ]
  },
  {
   "cell_type": "markdown",
   "id": "8b45c675",
   "metadata": {},
   "source": [
    "# Construct features and labels\n",
    "\n",
    "Make list of possible labels (and label weights), aligned with the features."
   ]
  },
  {
   "cell_type": "code",
   "execution_count": null,
   "id": "551eef7e",
   "metadata": {},
   "outputs": [],
   "source": [
    "# other_features = {\n",
    "#     r\"$G_{\\rm BP}-G_{\\rm RP}$\": 0.1 * (g.phot_bp_mean_mag - g.phot_rp_mean_mag).value\n",
    "# }\n",
    "f_all = Features.from_gaiadata(g, n_bp=32, n_rp=32) # , **other_features)\n",
    "# f_all = Features.from_gaiadata(g, n_bp=25, n_rp=25) # , **other_features)"
   ]
  },
  {
   "cell_type": "code",
   "execution_count": null,
   "id": "f7945ef1",
   "metadata": {},
   "outputs": [],
   "source": [
    "lbl = Labels()\n",
    "\n",
    "schmag_factor = 10 ** (0.2 * g.phot_g_mean_mag.value) / 100.\n",
    "lbl.add_label(\n",
    "    'schmag',\n",
    "    value=g.parallax.value * schmag_factor,\n",
    "    err=g.parallax_error.value * schmag_factor,\n",
    "    label='$G$-band schmag [absmgy$^{-1/2}$]'\n",
    ")\n",
    "lbl.add_label(\n",
    "    'TEFF',\n",
    "    g.TEFF,\n",
    "    g.TEFF_ERR,\n",
    "    label=r\"$T_{\\rm eff}$ [K]\"\n",
    ")\n",
    "lbl.add_label(\n",
    "    'M_H',\n",
    "    g.M_H,\n",
    "    g.M_H_ERR,\n",
    "    label=r\"$[{\\rm M}/{\\rm H}]$\"\n",
    ")\n",
    "lbl.add_label(\n",
    "    'logg',\n",
    "    g.LOGG,\n",
    "    g.LOGG_ERR,\n",
    "    label=r\"$\\log g$\"\n",
    ")\n",
    "\n",
    "assert np.all(lbl.y_err > 0)\n",
    "\n",
    "lbl.y.shape"
   ]
  },
  {
   "cell_type": "code",
   "execution_count": null,
   "id": "8c8a6394",
   "metadata": {},
   "outputs": [],
   "source": [
    "# NNN = 10\n",
    "# plt.errorbar(\n",
    "#     g.M_H[:NNN], \n",
    "#     label_ys['M_H'][:NNN],\n",
    "#     xerr=g.M_H_ERR[:NNN],\n",
    "#     yerr=label_errs['M_H'][:NNN],\n",
    "#     ls='none',\n",
    "#     marker='o'\n",
    "# )"
   ]
  },
  {
   "cell_type": "code",
   "execution_count": null,
   "id": "83d73fdd",
   "metadata": {},
   "outputs": [],
   "source": [
    "lbl.y.shape, lbl.y_err.shape"
   ]
  },
  {
   "cell_type": "code",
   "execution_count": null,
   "id": "e0fbf42c",
   "metadata": {},
   "outputs": [],
   "source": [
    "_ = corner.corner(lbl.y)"
   ]
  },
  {
   "cell_type": "markdown",
   "id": "99758742",
   "metadata": {},
   "source": [
    "# Make training and validation samples\n",
    "\n",
    "cut into eighths"
   ]
  },
  {
   "cell_type": "code",
   "execution_count": null,
   "id": "e5941dcd",
   "metadata": {},
   "outputs": [],
   "source": [
    "rng = np.random.default_rng(seed=42)\n",
    "\n",
    "rando = rng.integers(8, size=len(f_all))\n",
    "train = rando != 0\n",
    "valid = (\n",
    "    ~train &\n",
    "#     (g.LOGG < 2.2) &\n",
    "    ((lbl.vals['schmag'] / lbl.errs['schmag']) > 8)\n",
    ")\n",
    "\n",
    "f_train = f_all[train]\n",
    "f_valid = f_all[valid]\n",
    "\n",
    "X_train, X_valid = f_train.X, f_valid.X\n",
    "X_train_err, X_valid_err = f_train.X_err, f_valid.X_err\n",
    "y_train, y_valid = lbl.y[train], lbl.y[valid]\n",
    "y_train_err, y_valid_err = lbl.y_err[train], lbl.y_err[valid]\n",
    "\n",
    "print(X_train.shape, X_valid.shape)\n",
    "print(X_train_err.shape, X_valid_err.shape)\n",
    "print(y_train.shape, y_valid.shape)\n",
    "print(y_train_err.shape, y_valid_err.shape)"
   ]
  },
  {
   "cell_type": "code",
   "execution_count": null,
   "id": "33a4eca3",
   "metadata": {},
   "outputs": [],
   "source": [
    "# _ = corner.corner(X_train)"
   ]
  },
  {
   "cell_type": "code",
   "execution_count": null,
   "id": "a4902bf0",
   "metadata": {},
   "outputs": [],
   "source": [
    "# _ = corner.corner(X_valid)"
   ]
  },
  {
   "cell_type": "markdown",
   "id": "24aebd49",
   "metadata": {},
   "source": [
    "# Find neighbors for validation sample stars"
   ]
  },
  {
   "cell_type": "code",
   "execution_count": null,
   "id": "f071bf0a",
   "metadata": {},
   "outputs": [],
   "source": [
    "K = 128  # TODO: need to assess this  \n",
    "n_xp_tree = 8  # MAGIC\n",
    "# n_xp_tree = 5\n",
    "\n",
    "X_tree = f_all.slice_bp(n_xp_tree).slice_rp(n_xp_tree).X_tree\n",
    "X_train_tree = X_tree[train]\n",
    "X_valid_tree = X_tree[valid]\n",
    "\n",
    "tree = KDTree(X_train_tree, leaf_size=32) # magic\n",
    "dists, inds = tree.query(X_valid_tree, k=K)\n",
    "print(X_valid.shape, dists.shape, inds.shape)"
   ]
  },
  {
   "cell_type": "markdown",
   "id": "c6ea0c95",
   "metadata": {},
   "source": [
    "# Run LLVM model\n"
   ]
  },
  {
   "cell_type": "markdown",
   "id": "f74b9756",
   "metadata": {},
   "source": [
    "## Per-source:"
   ]
  },
  {
   "cell_type": "code",
   "execution_count": null,
   "id": "b57920fd",
   "metadata": {},
   "outputs": [],
   "source": [
    "valid_n = 35\n",
    "idx = inds[valid_n]\n",
    "\n",
    "rng = np.random.default_rng(42)\n",
    "n_labels = y_train.shape[1]\n",
    "n_latents = n_labels + 1\n",
    "B = np.zeros((n_labels, n_latents))\n",
    "B[:n_labels, :n_labels] = np.eye(n_labels)\n",
    "\n",
    "llvm = LinearLVM(\n",
    "    X_train[idx], y_train[idx], \n",
    "    X_train_err[idx], y_train_err[idx], \n",
    "    B, alpha=1e-1, beta=1e-1, \n",
    "    verbose=True, rng=rng\n",
    ")"
   ]
  },
  {
   "cell_type": "code",
   "execution_count": null,
   "id": "e622532a",
   "metadata": {},
   "outputs": [],
   "source": [
    "x0 = llvm.pack_p()\n",
    "print(x0.shape)"
   ]
  },
  {
   "cell_type": "code",
   "execution_count": null,
   "id": "b0784cc5",
   "metadata": {},
   "outputs": [],
   "source": [
    "solver = jaxopt.LBFGS(fun=llvm, maxiter=2**15)\n",
    "res_bfgs = solver.run(x0)\n",
    "print(res_bfgs.state.iter_num)"
   ]
  },
  {
   "cell_type": "code",
   "execution_count": null,
   "id": "028f6365",
   "metadata": {},
   "outputs": [],
   "source": [
    "opt = optax.adam(1e-4)\n",
    "solver = jaxopt.OptaxSolver(opt=opt, fun=llvm, maxiter=2**15)\n",
    "res_adam = solver.run(x0)\n",
    "print(res_adam.state.iter_num)"
   ]
  },
  {
   "cell_type": "code",
   "execution_count": null,
   "id": "838e9c2d",
   "metadata": {},
   "outputs": [],
   "source": [
    "print(\n",
    "    llvm(x0),\n",
    "    llvm(res_bfgs.params),\n",
    "    llvm(res_adam.params)\n",
    ")"
   ]
  },
  {
   "cell_type": "code",
   "execution_count": null,
   "id": "950ab23e",
   "metadata": {},
   "outputs": [],
   "source": [
    "# res_state = llvm.unpack_p(res_bfgs.params)\n",
    "res_state = llvm.unpack_p(res_adam.params)"
   ]
  },
  {
   "cell_type": "markdown",
   "id": "b96de906",
   "metadata": {},
   "source": [
    "### Self-test:"
   ]
  },
  {
   "cell_type": "code",
   "execution_count": null,
   "id": "5e543f8a",
   "metadata": {},
   "outputs": [],
   "source": [
    "y_train_predict0 = llvm.predict_y(\n",
    "    X_train[idx], \n",
    "    X_train_err[idx], \n",
    "    llvm.par_state\n",
    ")\n",
    "\n",
    "y_train_predict = llvm.predict_y(\n",
    "    X_train[idx], \n",
    "    X_train_err[idx],  \n",
    "    res_state\n",
    ")"
   ]
  },
  {
   "cell_type": "code",
   "execution_count": null,
   "id": "eb9a6f69",
   "metadata": {},
   "outputs": [],
   "source": [
    "for q in range(y_train.shape[1]):\n",
    "    plt.figure()\n",
    "    plt.scatter(\n",
    "        y_train[idx, q],\n",
    "        y_train_predict0[:, q]\n",
    "    )\n",
    "    plt.scatter(\n",
    "        y_train[idx, q],\n",
    "        y_train_predict[:, q]\n",
    "    )"
   ]
  },
  {
   "cell_type": "code",
   "execution_count": null,
   "id": "5d9d40a0",
   "metadata": {},
   "outputs": [],
   "source": [
    "x0 = llvm.pack_p()\n",
    "print(x0.shape)\n",
    "llvm(x0)"
   ]
  },
  {
   "cell_type": "code",
   "execution_count": null,
   "id": "be3f24df",
   "metadata": {},
   "outputs": [],
   "source": [
    "y_valid_predict0 = llvm.predict_y(\n",
    "    X_valid[valid_n:valid_n+1], \n",
    "    X_valid_err[valid_n:valid_n+1], \n",
    "    llvm.par_state\n",
    ")\n",
    "\n",
    "y_valid_predict = llvm.predict_y(\n",
    "    X_valid[valid_n:valid_n+1], \n",
    "    X_valid_err[valid_n:valid_n+1], \n",
    "    res_state\n",
    ")\n",
    "\n",
    "print(lbl._untransform(y_valid[valid_n:valid_n+1]))\n",
    "print(lbl._untransform(y_valid_predict0))\n",
    "print(lbl._untransform(y_valid_predict))"
   ]
  },
  {
   "cell_type": "markdown",
   "id": "2d00c995",
   "metadata": {},
   "source": [
    "### Run for a bunch of validation stars:"
   ]
  },
  {
   "cell_type": "code",
   "execution_count": null,
   "id": "c811c932",
   "metadata": {},
   "outputs": [],
   "source": [
    "from tqdm import trange"
   ]
  },
  {
   "cell_type": "code",
   "execution_count": null,
   "id": "0349311e",
   "metadata": {},
   "outputs": [],
   "source": [
    "Nvalid = 128\n",
    "y_valid_predict = np.zeros((Nvalid, y_valid.shape[1]))\n",
    "for valid_n in trange(y_valid_predict.shape[0]):\n",
    "    idx = inds[valid_n]\n",
    "\n",
    "    rng = np.random.default_rng(42)\n",
    "    n_labels = y_train.shape[1]\n",
    "    n_latents = n_labels + 1\n",
    "    B = np.zeros((n_labels, n_latents))\n",
    "    B[:n_labels, :n_labels] = np.eye(n_labels)\n",
    "\n",
    "    llvm = LinearLVM(\n",
    "        X_train[idx], y_train[idx], \n",
    "        X_train_err[idx], y_train_err[idx], \n",
    "        B, alpha=1e-1, beta=1e-1, \n",
    "        rng=rng\n",
    "    )\n",
    "    x0 = llvm.pack_p()\n",
    "    \n",
    "    opt = optax.adam(1e-4)\n",
    "    solver = jaxopt.OptaxSolver(opt=opt, fun=llvm, maxiter=2**14)\n",
    "    res_adam = solver.run(x0)\n",
    "    \n",
    "    res_state = llvm.unpack_p(res_adam.params)\n",
    "    \n",
    "    y_valid_predict[valid_n] = llvm.predict_y(\n",
    "        X_valid[valid_n:valid_n+1], \n",
    "        X_valid_err[valid_n:valid_n+1], \n",
    "        res_state\n",
    "    )\n",
    "    \n",
    "y_valid_subset = y_valid[:Nvalid]\n",
    "y_valid_subset_err = y_valid_err[:Nvalid]"
   ]
  },
  {
   "cell_type": "code",
   "execution_count": null,
   "id": "36f3d791",
   "metadata": {},
   "outputs": [],
   "source": [
    "fig, axes = plt.subplots(\n",
    "    1, y_valid_subset.shape[1], \n",
    "    figsize=(y_valid_subset.shape[1] * 6, 6),\n",
    "    constrained_layout=True\n",
    ")\n",
    "\n",
    "_predict = lbl._untransform(y_valid_predict)\n",
    "_valid = lbl._untransform(y_valid_subset)\n",
    "_valid_err = lbl._untransform(y_valid_subset_err, err=True)\n",
    "\n",
    "for q, (ax, name) in enumerate(zip(axes, _predict.keys())):\n",
    "    ax.errorbar(\n",
    "        _valid[name],\n",
    "        _predict[name],\n",
    "        xerr=_valid_err[name],\n",
    "        ls='none'\n",
    "    )\n",
    "    ax.set_title(name)\n",
    "    \n",
    "    lim = (_valid[name].min(), _valid[name].max())\n",
    "    ax.set_xlim(lim)\n",
    "    ax.set_ylim(lim)\n",
    "    \n",
    "for ax in axes:\n",
    "    ax.set_xlabel('APOGEE')\n",
    "axes[0].set_ylabel('schlummernd')"
   ]
  },
  {
   "cell_type": "code",
   "execution_count": null,
   "id": "653283de",
   "metadata": {},
   "outputs": [],
   "source": [
    "for name in _predict.keys():\n",
    "    dy = _predict[name] - _valid[name]\n",
    "    mad_std = 1.5 * MAD(dy)\n",
    "    std_deconv = np.sqrt(np.var(dy) - _valid_err[name]**2)\n",
    "    mad_std_deconv = np.sqrt(mad_std**2 - _valid_err[name]**2)\n",
    "    print(\n",
    "        f\"{name}:\\n\"\n",
    "        f\"  sigma={np.std(dy):.3f}\\n\"\n",
    "        f\"  median deconv. sigma={np.median(std_deconv):.3f}\\n\"\n",
    "        f\"  sigma_MAD={mad_std:.3f}\\n\"\n",
    "        f\"  median deconv. sigma_MAD={np.median(mad_std_deconv):.3f}\\n\"\n",
    "    )"
   ]
  },
  {
   "cell_type": "markdown",
   "id": "a2466725",
   "metadata": {},
   "source": [
    "## Per neighborhood:\n",
    "\n",
    "TODO: PCA the bp/rp coefficients and cluster?? like we did in apogee-dr17-distances"
   ]
  },
  {
   "cell_type": "code",
   "execution_count": null,
   "id": "c5c1db05",
   "metadata": {},
   "outputs": [],
   "source": []
  },
  {
   "cell_type": "code",
   "execution_count": null,
   "id": "11abffb1",
   "metadata": {},
   "outputs": [],
   "source": []
  },
  {
   "cell_type": "markdown",
   "id": "f482961a",
   "metadata": {},
   "source": [
    "---"
   ]
  },
  {
   "cell_type": "code",
   "execution_count": null,
   "id": "a5d3118e",
   "metadata": {},
   "outputs": [],
   "source": [
    "solver = jaxopt.LBFGS(fun=llvm, maxiter=10000)\n",
    "res_bfgs = solver.run(x0)\n",
    "print(res_bfgs.state.iter_num)\n",
    "llvm(res_bfgs.params)"
   ]
  },
  {
   "cell_type": "code",
   "execution_count": null,
   "id": "774c655e",
   "metadata": {},
   "outputs": [],
   "source": [
    "opt = optax.adam(1.)\n",
    "solver = jaxopt.OptaxSolver(opt=opt, fun=llvm, maxiter=100000)\n",
    "res_adam = solver.run(x0)\n",
    "print(res_adam.state.iter_num)\n",
    "llvm(res_adam.params)"
   ]
  },
  {
   "cell_type": "code",
   "execution_count": null,
   "id": "9d2ddf6f",
   "metadata": {},
   "outputs": [],
   "source": [
    "# llvm.unpack_p(res_bfgs.params)"
   ]
  },
  {
   "cell_type": "code",
   "execution_count": null,
   "id": "22df90cc",
   "metadata": {},
   "outputs": [],
   "source": [
    "res_state = llvm.unpack_p(res_bfgs.params)\n",
    "# res_state = llvm.unpack_p(res_adam.params)\n",
    "\n",
    "# y_valid_predict0 = llvm.predict_y(X_valid, X_valid_err, llvm.par_state)\n",
    "# y_valid_predict = llvm.predict_y(X_valid, X_valid_err, res_state)\n",
    "\n",
    "y_valid_predict = llvm.predict_y(\n",
    "    X_valid[valid_n:valid_n+1], \n",
    "    X_valid_err[valid_n:valid_n+1], \n",
    "    res_state\n",
    ")"
   ]
  },
  {
   "cell_type": "code",
   "execution_count": null,
   "id": "1fa20615",
   "metadata": {},
   "outputs": [],
   "source": [
    "y_valid[valid_n:valid_n+1]"
   ]
  },
  {
   "cell_type": "code",
   "execution_count": null,
   "id": "19c020e3",
   "metadata": {},
   "outputs": [],
   "source": [
    "y_valid_predict0"
   ]
  },
  {
   "cell_type": "code",
   "execution_count": null,
   "id": "9c1c80e7",
   "metadata": {},
   "outputs": [],
   "source": [
    "y_valid_predict"
   ]
  },
  {
   "cell_type": "code",
   "execution_count": null,
   "id": "9f4bf97b",
   "metadata": {},
   "outputs": [],
   "source": [
    "y_valid_err[valid_n:valid_n+1]"
   ]
  },
  {
   "cell_type": "code",
   "execution_count": null,
   "id": "c1218c02",
   "metadata": {},
   "outputs": [],
   "source": [
    "# infer for test-set objects\n",
    "for k in range(y_valid.shape[1]):\n",
    "    plt.figure()\n",
    "#     plt.scatter(y_star[:, k], ystar_predict0[:, k], c=\"r\", marker=\"o\")\n",
    "    plt.scatter(y_valid[:, k], y_valid_predict[:, k], c=\"k\", marker=\"o\")\n",
    "    plt.plot([y_valid[:, k].min(), y_valid[:, k].max()],\n",
    "             [y_valid[:, k].min(), y_valid[:, k].max()], \n",
    "             marker='', color='tab:blue')\n",
    "    plt.xlabel(f\"true label {k}\")\n",
    "    plt.ylabel(f\"prediction of label {k}\")\n",
    "    plt.title(\"held-out data\")"
   ]
  },
  {
   "cell_type": "code",
   "execution_count": null,
   "id": "f95a9860",
   "metadata": {},
   "outputs": [],
   "source": []
  }
 ],
 "metadata": {
  "kernelspec": {
   "display_name": "adrian conda base",
   "language": "python",
   "name": "conda-base"
  },
  "language_info": {
   "codemirror_mode": {
    "name": "ipython",
    "version": 3
   },
   "file_extension": ".py",
   "mimetype": "text/x-python",
   "name": "python",
   "nbconvert_exporter": "python",
   "pygments_lexer": "ipython3",
   "version": "3.9.13"
  },
  "toc": {
   "base_numbering": 1,
   "nav_menu": {},
   "number_sections": true,
   "sideBar": true,
   "skip_h1_title": false,
   "title_cell": "Table of Contents",
   "title_sidebar": "Contents",
   "toc_cell": false,
   "toc_position": {},
   "toc_section_display": true,
   "toc_window_display": true
  }
 },
 "nbformat": 4,
 "nbformat_minor": 5
}
