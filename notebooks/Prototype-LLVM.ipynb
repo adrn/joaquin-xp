{
 "cells": [
  {
   "cell_type": "markdown",
   "id": "24b6ea29",
   "metadata": {},
   "source": [
    "# Linear Latent Variable Model\n",
    "See the Text.\n",
    "\n",
    "## Authors:\n",
    "- **Adrian Price-Whelan** (Flatiron)\n",
    "- **David W. Hogg** (NYU) (MPIA) (Flatiron)\n",
    "\n",
    "## TODO / questions\n",
    "- "
   ]
  },
  {
   "cell_type": "code",
   "execution_count": null,
   "id": "b53898a4",
   "metadata": {},
   "outputs": [],
   "source": [
    "import matplotlib as mpl\n",
    "import matplotlib.pyplot as plt\n",
    "%matplotlib inline\n",
    "import numpy as np\n",
    "from tqdm import tqdm\n",
    "\n",
    "from scipy.optimize import minimize\n",
    "import jax\n",
    "import jaxopt\n",
    "\n",
    "from jax.config import config\n",
    "config.update(\"jax_enable_x64\", True)\n",
    "\n",
    "from schlummernd import LinearLVM"
   ]
  },
  {
   "cell_type": "markdown",
   "id": "4b006b31",
   "metadata": {},
   "source": [
    "# Make toy fake data:"
   ]
  },
  {
   "cell_type": "code",
   "execution_count": null,
   "id": "224f8897",
   "metadata": {},
   "outputs": [],
   "source": [
    "# N - stars\n",
    "# R - features\n",
    "# Q - labels\n",
    "# D - latents\n",
    "\n",
    "N = 617\n",
    "R = 17\n",
    "Q = 3\n",
    "D = 5\n",
    "M = 101\n",
    "\n",
    "# N = 191\n",
    "# R = 17\n",
    "# Q = 3\n",
    "# D = 5\n",
    "# M = 53\n",
    "\n",
    "# ---\n",
    "\n",
    "rng = np.random.default_rng(42)\n",
    "\n",
    "A_true = rng.normal(size=(R, D))\n",
    "B_true = np.zeros((Q, D))\n",
    "B_true[:Q, :Q] = np.eye(Q)\n",
    "z_true = rng.normal(size=(N, D))\n",
    "\n",
    "X_true = z_true @ A_true.T\n",
    "y_true = z_true @ B_true.T\n",
    "\n",
    "sigma = 0.1\n",
    "X = rng.normal(X_true, sigma, size=X_true.shape)  # Noisify\n",
    "y = rng.normal(y_true, sigma, size=y_true.shape)  # Noisify\n",
    "\n",
    "\n",
    "z_star_true = rng.normal(size=(M, D))\n",
    "X_star_true = z_star_true @ A_true.T\n",
    "y_star_true = z_star_true @ B_true.T\n",
    "X_star = rng.normal(X_star_true, sigma, size=X_star_true.shape)  # Noisify\n",
    "y_star = rng.normal(y_star_true, sigma, size=y_star_true.shape)  # Noisify\n",
    "\n",
    "X_err = np.full_like(X, sigma)\n",
    "y_err = np.full_like(y, sigma)\n",
    "X_star_err = np.full_like(X_star, sigma)\n",
    "y_star_err = np.full_like(y_star, sigma)\n",
    "\n",
    "alpha = 0.1\n",
    "beta = 1."
   ]
  },
  {
   "cell_type": "code",
   "execution_count": null,
   "id": "75322fb7",
   "metadata": {},
   "outputs": [],
   "source": [
    "llvm = LinearLVM(X, y, X_err, y_err, B_true, alpha, beta, verbose=True, rng=rng)\n",
    "# llvm = LinearLVM(X, y, X_err, y_err, B_true, 0.1, 0., verbose=True, rng=rng)"
   ]
  },
  {
   "cell_type": "code",
   "execution_count": null,
   "id": "c3f67cbf",
   "metadata": {},
   "outputs": [],
   "source": [
    "x0 = llvm.pack_p()\n",
    "llvm(x0)"
   ]
  },
  {
   "cell_type": "code",
   "execution_count": null,
   "id": "b690e8e9",
   "metadata": {},
   "outputs": [],
   "source": [
    "# for name in llvm.par_state.names:\n",
    "#     assert np.all(getattr(llvm.unpack_p(llvm.pack_p()), name) == getattr(llvm.par_state, name))"
   ]
  },
  {
   "cell_type": "code",
   "execution_count": null,
   "id": "9b4aa334",
   "metadata": {},
   "outputs": [],
   "source": [
    "solver = jaxopt.LBFGS(fun=llvm, maxiter=16384)\n",
    "res = solver.run(x0)\n",
    "res.state.iter_num"
   ]
  },
  {
   "cell_type": "code",
   "execution_count": null,
   "id": "434095a1",
   "metadata": {},
   "outputs": [],
   "source": [
    "llvm(x0)"
   ]
  },
  {
   "cell_type": "code",
   "execution_count": null,
   "id": "ec7361ec",
   "metadata": {},
   "outputs": [],
   "source": [
    "llvm(res.params)"
   ]
  },
  {
   "cell_type": "code",
   "execution_count": null,
   "id": "d56b98c5",
   "metadata": {},
   "outputs": [],
   "source": [
    "res_state = llvm.unpack_p(res.params)\n",
    "ystar_predict0 = llvm.predict_y(X_star, X_star_err, llvm.par_state)\n",
    "ystar_predict = llvm.predict_y(X_star, X_star_err, res_state)"
   ]
  },
  {
   "cell_type": "code",
   "execution_count": null,
   "id": "7fd7dd4d",
   "metadata": {},
   "outputs": [],
   "source": [
    "# infer for test-set objects\n",
    "for k in range(y_star.shape[1]):\n",
    "    plt.figure()\n",
    "#     plt.scatter(y_star[:, k], ystar_predict0[:, k], c=\"r\", marker=\"o\")\n",
    "    plt.scatter(y_star[:, k], ystar_predict[:, k], c=\"k\", marker=\"o\")\n",
    "    plt.plot([y_star[:, k].min(), y_star[:, k].max()],\n",
    "             [y_star[:, k].min(), y_star[:, k].max()], \n",
    "             marker='', color='tab:blue')\n",
    "    plt.xlabel(f\"true label {k}\")\n",
    "    plt.ylabel(f\"prediction of label {k}\")\n",
    "    plt.title(\"held-out data\")"
   ]
  },
  {
   "cell_type": "code",
   "execution_count": null,
   "id": "1fc8b5a9",
   "metadata": {},
   "outputs": [],
   "source": []
  }
 ],
 "metadata": {
  "kernelspec": {
   "display_name": "adrian conda base",
   "language": "python",
   "name": "conda-base"
  },
  "language_info": {
   "codemirror_mode": {
    "name": "ipython",
    "version": 3
   },
   "file_extension": ".py",
   "mimetype": "text/x-python",
   "name": "python",
   "nbconvert_exporter": "python",
   "pygments_lexer": "ipython3",
   "version": "3.9.13"
  },
  "toc": {
   "base_numbering": 1,
   "nav_menu": {},
   "number_sections": true,
   "sideBar": true,
   "skip_h1_title": false,
   "title_cell": "Table of Contents",
   "title_sidebar": "Contents",
   "toc_cell": false,
   "toc_position": {},
   "toc_section_display": true,
   "toc_window_display": true
  }
 },
 "nbformat": 4,
 "nbformat_minor": 5
}
