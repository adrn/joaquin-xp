{
 "cells": [
  {
   "cell_type": "code",
   "execution_count": null,
   "metadata": {},
   "outputs": [],
   "source": [
    "import pathlib\n",
    "\n",
    "import astropy.coordinates as coord\n",
    "import astropy.table as at\n",
    "import astropy.units as u\n",
    "import corner\n",
    "import matplotlib as mpl\n",
    "import matplotlib.pyplot as plt\n",
    "%matplotlib inline\n",
    "import numpy as np\n",
    "from tqdm import tqdm, trange\n",
    "\n",
    "from scipy.spatial import cKDTree\n",
    "from sklearn.decomposition import IncrementalPCA\n",
    "from sklearn.neighbors import KernelDensity\n",
    "\n",
    "from schlummernd.data import load_data, Features, Labels\n",
    "from schlummernd.plot import colored_corner"
   ]
  },
  {
   "cell_type": "code",
   "execution_count": null,
   "metadata": {},
   "outputs": [],
   "source": [
    "# plot_path = conf.plot_path / 'neighborhoods'\n",
    "# plot_path.mkdir(exist_ok=True)"
   ]
  },
  {
   "cell_type": "code",
   "execution_count": null,
   "metadata": {},
   "outputs": [],
   "source": [
    "# Random number generator, using seed from config file\n",
    "rng = np.random.default_rng(seed=42)"
   ]
  },
  {
   "cell_type": "markdown",
   "metadata": {},
   "source": [
    "### Select a subset of stars to use for defining the neighborhoods:"
   ]
  },
  {
   "cell_type": "code",
   "execution_count": null,
   "metadata": {},
   "outputs": [],
   "source": [
    "g_all = load_data(\n",
    "    filters=dict(\n",
    "        TEFF=(2500, 10000),\n",
    "        LOGG=(-1, 6),\n",
    "        M_H=(-3, None)\n",
    "    )\n",
    ")\n",
    "g_all = g_all[np.unique(g_all.APOGEE_ID, return_index=True)[1]]\n",
    "print(len(g_all))\n",
    "\n",
    "g = g_all.filter(SNR=(200, None), ruwe=(None, 1.2))\n",
    "# TODO: this number (size) should be configurable\n",
    "idx = rng.choice(len(g), size=16384, replace=False)\n",
    "g = g[idx]\n",
    "print(len(g))"
   ]
  },
  {
   "cell_type": "code",
   "execution_count": null,
   "metadata": {},
   "outputs": [],
   "source": [
    "# Spectroscopic HR diagram of the subset stars:\n",
    "fig, ax = plt.subplots(figsize=(6, 6))\n",
    "\n",
    "teff_logg_bins = (\n",
    "    np.linspace(3000, 9000, 128),\n",
    "    np.linspace(-0.5, 5.75, 128))\n",
    "ax.hist2d(g_all.TEFF,\n",
    "          g_all.LOGG,\n",
    "          bins=teff_logg_bins,\n",
    "          norm=mpl.colors.LogNorm(),\n",
    "          cmap='Greys')\n",
    "\n",
    "ax.plot(g.TEFF,\n",
    "        g.LOGG,\n",
    "        ls='none', marker='o', mew=0, ms=2.,\n",
    "        color='tab:blue', alpha=0.75)\n",
    "\n",
    "ax.set_xlim(teff_logg_bins[0].max(),\n",
    "            teff_logg_bins[0].min())\n",
    "ax.set_ylim(teff_logg_bins[1].max(),\n",
    "            teff_logg_bins[1].min())\n",
    "\n",
    "ax.set_xlabel('TEFF')\n",
    "ax.set_ylabel('LOGG')\n",
    "\n",
    "fig.tight_layout()\n",
    "# fig.savefig(plot_path / 'subset-logg-teff.png', dpi=200)"
   ]
  },
  {
   "cell_type": "code",
   "execution_count": null,
   "metadata": {},
   "outputs": [],
   "source": [
    "other_features = {\n",
    "    r\"$G_{\\rm BP}-G_{\\rm RP}$\": 0.1 * (g_all.phot_bp_mean_mag - g_all.phot_rp_mean_mag).value,\n",
    "    r\"$G_{\\rm BP}-H$\": 0.1 * (g_all.phot_bp_mean_mag.value - g_all.H)\n",
    "}\n",
    "\n",
    "f_all = Features.from_gaiadata(g_all, n_bp=5, n_rp=5)\n",
    "f = Features.from_gaiadata(g, n_bp=5, n_rp=5)\n",
    "# f = f_all[idx]"
   ]
  },
  {
   "cell_type": "code",
   "execution_count": null,
   "metadata": {},
   "outputs": [],
   "source": [
    "# tmp = parent.mask_spec_pixels(global_spec_mask)\n",
    "# parent_X = tmp.get_neighborhood_X(conf.neighborhood_color_names)"
   ]
  },
  {
   "cell_type": "code",
   "execution_count": null,
   "metadata": {},
   "outputs": [],
   "source": [
    "_ = colored_corner(f.X[:, :3], scatter=False, statistic='count')"
   ]
  },
  {
   "cell_type": "code",
   "execution_count": null,
   "metadata": {},
   "outputs": [],
   "source": [
    "plt.plot(\n",
    "    # g.bp[:, 1]/g.bp[:, 0],\n",
    "    f.X[:, 0],\n",
    "    g.TEFF,\n",
    "    ls='none'\n",
    ")"
   ]
  },
  {
   "cell_type": "code",
   "execution_count": null,
   "metadata": {},
   "outputs": [],
   "source": [
    "_ = colored_corner(f.X[:, :5], scatter=False, color_by=g.TEFF, add_colorbar=True) # , vmin=4000, vmax=6000)"
   ]
  },
  {
   "cell_type": "code",
   "execution_count": null,
   "metadata": {},
   "outputs": [],
   "source": []
  },
  {
   "cell_type": "code",
   "execution_count": null,
   "metadata": {},
   "outputs": [],
   "source": [
    "_ = corner.corner(\n",
    "    f.X, \n",
    "    range=[np.nanpercentile(x, [5, 95]) for x in f.X.T],\n",
    "    plot_density=False,\n",
    "    plot_contours=False, \n",
    "    alpha=0.5\n",
    ")"
   ]
  },
  {
   "cell_type": "markdown",
   "metadata": {},
   "source": [
    "Run PCA on the neighborhood node features and project the subset feature matrix onto the PCA basis:"
   ]
  },
  {
   "cell_type": "code",
   "execution_count": null,
   "metadata": {},
   "outputs": [],
   "source": [
    "# TODO: magic number\n",
    "neighborhood_pca_components = 6"
   ]
  },
  {
   "cell_type": "code",
   "execution_count": null,
   "metadata": {},
   "outputs": [],
   "source": [
    "pca = IncrementalPCA(\n",
    "    n_components=neighborhood_pca_components,\n",
    "    batch_size=1024\n",
    ")  # TODO: magic number\n",
    "projected_X = pca.fit_transform(f.X)\n",
    "projected_X /= pca.singular_values_"
   ]
  },
  {
   "cell_type": "markdown",
   "metadata": {},
   "source": [
    "This hacky step removes extreme outliers - only run this after the cells above because it overwrites variables!!"
   ]
  },
  {
   "cell_type": "code",
   "execution_count": null,
   "metadata": {},
   "outputs": [],
   "source": [
    "mean = np.mean(projected_X, axis=0)\n",
    "std = np.std(projected_X, axis=0)\n",
    "bad_mask = np.any(np.abs(projected_X - mean) > 5*std, axis=1)\n",
    "\n",
    "neighborhood_node_X = f.X[~bad_mask]\n",
    "neighborhood_node_g = g[~bad_mask]\n",
    "\n",
    "pca = IncrementalPCA(\n",
    "    n_components=neighborhood_pca_components,\n",
    "    batch_size=1024\n",
    ")\n",
    "node_projected_X = pca.fit_transform(neighborhood_node_X)\n",
    "node_projected_X /= pca.singular_values_"
   ]
  },
  {
   "cell_type": "code",
   "execution_count": null,
   "metadata": {},
   "outputs": [],
   "source": [
    "fig, axes = plt.subplots(pca.n_components_ // 2, 2,\n",
    "                         figsize=(16, 12), sharex=True)\n",
    "\n",
    "for i, ax in enumerate(axes.flat):\n",
    "    ax.plot(pca.components_[i])\n",
    "    \n",
    "fig.tight_layout()"
   ]
  },
  {
   "cell_type": "code",
   "execution_count": null,
   "metadata": {},
   "outputs": [],
   "source": [
    "print(np.cumsum(pca.explained_variance_ratio_)[-1])\n",
    "plt.plot(np.cumsum(pca.explained_variance_ratio_))\n",
    "plt.ylim(0.8, 1)\n",
    "plt.axhline(0.9, zorder=-10, alpha=0.5, color='tab:blue')"
   ]
  },
  {
   "cell_type": "markdown",
   "metadata": {},
   "source": [
    "### Plot the spectroscopic parameters, colored by PCA component"
   ]
  },
  {
   "cell_type": "code",
   "execution_count": null,
   "metadata": {},
   "outputs": [],
   "source": [
    "fig, axes = plt.subplots(3, 3, \n",
    "                         figsize=(10, 10),\n",
    "                         sharex=True, sharey=True)\n",
    "\n",
    "for i in range(pca.n_components):\n",
    "    ax = axes.flat[i]\n",
    "    ax.scatter(\n",
    "        neighborhood_node_g.TEFF,\n",
    "        neighborhood_node_g.LOGG,\n",
    "        c=node_projected_X[:, i], s=6\n",
    "    )\n",
    "    ax.text(teff_logg_bins[0].max() - 100, \n",
    "            teff_logg_bins[1].min() + 0.1,\n",
    "            f'PCA feature {i}', va='top', ha='left')\n",
    "\n",
    "for i in range(pca.n_components, len(axes.flat)):\n",
    "    axes.flat[i].set_visible(False)\n",
    "    \n",
    "ax.set_xlim(teff_logg_bins[0].max(), \n",
    "            teff_logg_bins[0].min())\n",
    "ax.set_ylim(teff_logg_bins[1].max(), \n",
    "            teff_logg_bins[1].min())\n",
    "\n",
    "fig.tight_layout()\n",
    "# fig.savefig(plot_path / 'neighborhood-logg-teff-pca.png', dpi=200)"
   ]
  },
  {
   "cell_type": "code",
   "execution_count": null,
   "metadata": {},
   "outputs": [],
   "source": [
    "def simple_corner(X, labels=None, color_by=None, axes=None,\n",
    "                  colorbar=False, **style):\n",
    "    if X.shape[1] > X.shape[0]:\n",
    "        raise ValueError(\"I don't believe you\")\n",
    "\n",
    "    if color_by is None:\n",
    "        plotfunc = 'plot'\n",
    "        style.setdefault('marker', 'o')\n",
    "        style.setdefault('mew', style.pop('markeredgewidth', 0))\n",
    "        style.setdefault('ls', style.pop('linestyle', 'none'))\n",
    "        style.setdefault('ms', style.pop('markersize', 2.))\n",
    "    else:\n",
    "        plotfunc = 'scatter'\n",
    "        style.setdefault('marker', 'o')\n",
    "        style.setdefault('lw', style.pop('linewidth', 0))\n",
    "        style.setdefault('s', 5)\n",
    "        style.setdefault('c', color_by)\n",
    "\n",
    "    nside = X.shape[1] - 1\n",
    "\n",
    "    # Some magic numbers for pretty axis layout.\n",
    "    # Stolen from corner.py!\n",
    "    K = X.shape[1]\n",
    "    factor = 2.0  # size of one side of one panel\n",
    "    lbdim = 0.5 * factor  # size of left/bottom margin\n",
    "    trdim = 0.2 * factor  # size of top/right margin\n",
    "    whspace = 0.05  # w/hspace size\n",
    "    plotdim = factor * K + factor * (K - 1.0) * whspace\n",
    "    dim = lbdim + plotdim + trdim\n",
    "\n",
    "    if axes is None:\n",
    "        fig, axes = plt.subplots(nside, nside,\n",
    "                                 figsize=(dim, dim),  # (3*nside, 3*nside),\n",
    "                                 sharex='col', sharey='row',\n",
    "                                 constrained_layout=True)\n",
    "    else:\n",
    "        fig = axes.flat[0].figure\n",
    "\n",
    "    if not isinstance(axes, np.ndarray):\n",
    "        axes = np.array([[axes]])\n",
    "\n",
    "    cs = None\n",
    "    for i in range(nside):\n",
    "        for j in range(nside):\n",
    "            ax = axes[i, j]\n",
    "            if i < j:\n",
    "                ax.set_visible(False)\n",
    "            else:\n",
    "                cs = getattr(ax, plotfunc)(X[:, j], X[:, i+1], **style)\n",
    "\n",
    "    if labels is not None:\n",
    "        for i in range(nside):\n",
    "            axes[i, 0].set_ylabel(labels[i+1])\n",
    "\n",
    "        for j in range(nside):\n",
    "            axes[-1, j].set_xlabel(labels[j])\n",
    "\n",
    "    return_stuff = [fig, axes]\n",
    "\n",
    "    if colorbar and color_by is not None and cs is not None:\n",
    "        cb = fig.colorbar(cs, ax=axes)\n",
    "        return_stuff.append(cb)\n",
    "\n",
    "    return return_stuff\n"
   ]
  },
  {
   "cell_type": "code",
   "execution_count": null,
   "metadata": {},
   "outputs": [],
   "source": [
    "things = {\n",
    "    'TEFF': (3000, 6500),\n",
    "    'LOGG': (0.5, 5.5),\n",
    "    'M_H': (-2, 0.5),\n",
    "    'AK_WISE': (0, 1)\n",
    "}\n",
    "for name, (vmin, vmax) in things.items():\n",
    "    fig, axes, cb = simple_corner(\n",
    "        node_projected_X, \n",
    "        color_by=neighborhood_node_g[name],\n",
    "        colorbar=True,\n",
    "        vmin=vmin, vmax=vmax,\n",
    "        labels=[f'PCA {i}' \n",
    "                for i in range(pca.n_components_)])\n",
    "    cb.ax.set_aspect(40)\n",
    "    axes.flat[0].set_title(f'color: {name}')\n",
    "    \n",
    "    # fig.savefig(plot_path / f'neighborhood-pca-{name}.png', dpi=200)\n",
    "    # plt.close(fig)"
   ]
  },
  {
   "cell_type": "markdown",
   "metadata": {},
   "source": [
    "### Now use the sample to define the neighborhoods:\n",
    "\n",
    "We do this by estimating the local density (in projected feature space)"
   ]
  },
  {
   "cell_type": "code",
   "execution_count": null,
   "metadata": {},
   "outputs": [],
   "source": [
    "parent_X = f_all.X"
   ]
  },
  {
   "cell_type": "code",
   "execution_count": null,
   "metadata": {},
   "outputs": [],
   "source": [
    "bw = np.mean(np.std(node_projected_X, axis=0)) * np.sqrt(node_projected_X.shape[1]) / 3\n",
    "kde = KernelDensity(bandwidth=bw, kernel='epanechnikov')\n",
    "_ = kde.fit(node_projected_X)"
   ]
  },
  {
   "cell_type": "code",
   "execution_count": null,
   "metadata": {},
   "outputs": [],
   "source": [
    "parent_projected_X = np.zeros((parent_X.shape[0], node_projected_X.shape[1]),\n",
    "                               dtype=np.float32)\n",
    "\n",
    "vals = np.linspace(0, parent_X.shape[0], 32).astype(int)\n",
    "for i1, i2 in zip(vals[:-1], vals[1:]):\n",
    "    if i2 >= parent_X.shape[0]-1:\n",
    "        i2 = parent_X.shape[0]\n",
    "        \n",
    "    parent_projected_X[i1:i2] = pca.transform(parent_X[i1:i2])\n",
    "    parent_projected_X[i1:i2] /= pca.singular_values_"
   ]
  },
  {
   "cell_type": "code",
   "execution_count": null,
   "metadata": {},
   "outputs": [],
   "source": [
    "training_projected_X = parent_projected_X\n",
    "training_dens = kde.score_samples(training_projected_X)\n",
    "assert training_projected_X.shape[0] == training_dens.shape[0]"
   ]
  },
  {
   "cell_type": "code",
   "execution_count": null,
   "metadata": {},
   "outputs": [],
   "source": [
    "training_sample_idx = np.arange(parent_projected_X.shape[0])"
   ]
  },
  {
   "cell_type": "code",
   "execution_count": null,
   "metadata": {},
   "outputs": [],
   "source": [
    "min_neighborhood_size = 256\n",
    "max_neighborhood_size = 4096\n",
    "\n",
    "sort_idx = training_dens.argsort()[::-1]\n",
    "tree = cKDTree(training_projected_X)\n",
    "\n",
    "neighborhoods = []\n",
    "all_block_stars = np.array([], dtype=np.int32)\n",
    "for i in tqdm(sort_idx):\n",
    "    # Skip if a star already appears in a block\n",
    "    stoop_idx = i\n",
    "    if stoop_idx in all_block_stars:\n",
    "        continue\n",
    "    \n",
    "    _, results = tree.query(\n",
    "        training_projected_X[i], \n",
    "        k=max_neighborhood_size\n",
    "    )\n",
    "    \n",
    "    neighborhood_idx = training_sample_idx[results]\n",
    "    neighborhoods.append(neighborhood_idx)\n",
    "    \n",
    "    all_block_stars = np.concatenate((\n",
    "        all_block_stars, \n",
    "        neighborhood_idx[:max_neighborhood_size].astype(np.int32)\n",
    "    ))\n",
    "\n",
    "len(neighborhoods)"
   ]
  },
  {
   "cell_type": "code",
   "execution_count": null,
   "metadata": {},
   "outputs": [],
   "source": [
    "stoop_idx = np.array([idx[0] for idx in neighborhoods])\n",
    "stoop_projected_X = parent_projected_X[stoop_idx]\n",
    "stoop_g = g_all[stoop_idx]\n",
    "assert len(stoop_g['APOGEE_ID']) == np.unique(stoop_g['APOGEE_ID']).size"
   ]
  },
  {
   "cell_type": "code",
   "execution_count": null,
   "metadata": {},
   "outputs": [],
   "source": [
    "fig, ax = plt.subplots(figsize=(6, 6))\n",
    "\n",
    "ax.scatter(stoop_g['TEFF'], stoop_g['LOGG'])\n",
    "\n",
    "ax.set_xlim(teff_logg_bins[0].max(), \n",
    "            teff_logg_bins[0].min())\n",
    "ax.set_ylim(teff_logg_bins[1].max(), \n",
    "            teff_logg_bins[1].min())\n",
    "\n",
    "ax.set_title('stoops')\n",
    "\n",
    "ax.set_xlabel('TEFF')\n",
    "ax.set_ylabel('LOGG')\n",
    "\n",
    "fig.tight_layout()"
   ]
  },
  {
   "cell_type": "markdown",
   "metadata": {},
   "source": [
    "This makes plots of all of the neighborhood stars:"
   ]
  },
  {
   "cell_type": "code",
   "execution_count": null,
   "metadata": {},
   "outputs": [],
   "source": [
    "# neighbor_plot_path = plot_path / 'neighborhoods'\n",
    "# neighbor_plot_path.mkdir(exist_ok=True)\n",
    "\n",
    "# for name in tqdm(neighbor_plot_path.rglob('*.png')):\n",
    "#     if name.exists():\n",
    "#         name.unlink()\n",
    "\n",
    "lims = {\n",
    "    'TEFF': (8000, 3200), \n",
    "    'LOGG': (5.5, -0.5), \n",
    "    'M_H': (-2.5, 0.5), \n",
    "    'AK_WISE': (0, 2)\n",
    "}\n",
    "for n, hood in enumerate(tqdm(neighborhoods[:10])):\n",
    "    stoop = g_all[hood[0]]\n",
    "    block = g_all[hood[1:]]\n",
    "    \n",
    "    fig, axes = plt.subplots(\n",
    "        1, 3, \n",
    "        figsize=(15, 5), \n",
    "        constrained_layout=True\n",
    "    )\n",
    "    \n",
    "    for ax, names in zip(axes, [('TEFF', 'LOGG'), \n",
    "                                ('TEFF', 'M_H'), \n",
    "                                ('M_H', 'AK_WISE')]):\n",
    "        ax.scatter(stoop[names[0]], stoop[names[1]],\n",
    "                   zorder=100, color='tab:blue', s=14)\n",
    "        ax.scatter(block[names[0]], block[names[1]],\n",
    "                   s=3, color='tab:orange', alpha=0.5, zorder=1)\n",
    "        \n",
    "        ax.set_xlabel(names[0])\n",
    "        ax.set_ylabel(names[1])\n",
    "        \n",
    "        ax.set_xlim(lims[names[0]])\n",
    "        ax.set_ylim(lims[names[1]])\n",
    "    \n",
    "#     fig = plot_hr_cmd(parent.stars, parent.stars,\n",
    "#                       idx0=hood[0], other_idx=hood[1:])\n",
    "    if n > 10: break\n",
    "#     fig.tight_layout()\n",
    "#     fig.savefig(neighbor_plot_path / f'neighborhood-{n:03d}.png', dpi=200)\n",
    "#     plt.close(fig)"
   ]
  },
  {
   "cell_type": "code",
   "execution_count": null,
   "metadata": {},
   "outputs": [],
   "source": [
    "_rng = np.random.default_rng(42)\n",
    "for n, n_idx in enumerate(tqdm(_rng.choice(len(neighborhoods), size=10, replace=False))):\n",
    "    hood = neighborhoods[n_idx]\n",
    "    \n",
    "    stoop = g_all[hood[0]]\n",
    "    block = g_all[hood[1:]]\n",
    "    \n",
    "    fig, axes = plt.subplots(\n",
    "        1, 3, \n",
    "        figsize=(15, 5), \n",
    "        constrained_layout=True\n",
    "    )\n",
    "    \n",
    "    for ax, names in zip(axes, [('TEFF', 'LOGG'), \n",
    "                                ('TEFF', 'M_H'), \n",
    "                                ('M_H', 'AK_WISE')]):\n",
    "        ax.scatter(stoop[names[0]], stoop[names[1]],\n",
    "                   zorder=100, color='tab:blue', s=14)\n",
    "        ax.scatter(block[names[0]], block[names[1]],\n",
    "                   s=3, color='tab:orange', alpha=0.5, zorder=1)\n",
    "        \n",
    "        ax.set_xlabel(names[0])\n",
    "        ax.set_ylabel(names[1])\n",
    "        \n",
    "        ax.set_xlim(lims[names[0]])\n",
    "        ax.set_ylim(lims[names[1]])\n",
    "    \n",
    "#     fig = plot_hr_cmd(parent.stars, parent.stars,\n",
    "#                       idx0=hood[0], other_idx=hood[1:])\n",
    "    if n > 10: break\n",
    "#     fig.tight_layout()\n",
    "#     fig.savefig(neighbor_plot_path / f'neighborhood-{n:03d}.png', dpi=200)\n",
    "#     plt.close(fig)"
   ]
  },
  {
   "cell_type": "markdown",
   "metadata": {},
   "source": [
    "### Apply to the full parent sample\n",
    "\n",
    "Every parent sample star should get a stoop"
   ]
  },
  {
   "cell_type": "code",
   "execution_count": null,
   "metadata": {},
   "outputs": [],
   "source": [
    "# parent_tree = cKDTree(parent_projected_X)\n",
    "stoop_tree = cKDTree(stoop_projected_X)"
   ]
  },
  {
   "cell_type": "code",
   "execution_count": null,
   "metadata": {},
   "outputs": [],
   "source": [
    "# _, closest_stoop_idx = parent_tree.query(stoop_projected_X, k=2)\n",
    "closest_stoop_dist, closest_stoop_idx = stoop_tree.query(parent_projected_X, k=1)\n",
    "closest_stoop_idx = closest_stoop_idx.ravel()\n",
    "closest_stoop_dist = closest_stoop_dist.ravel()"
   ]
  },
  {
   "cell_type": "code",
   "execution_count": null,
   "metadata": {},
   "outputs": [],
   "source": [
    "len(stoop_projected_X), np.unique(closest_stoop_idx).size"
   ]
  },
  {
   "cell_type": "code",
   "execution_count": null,
   "metadata": {},
   "outputs": [],
   "source": [
    "all_indices = []\n",
    "for n in range(len(neighborhoods)):\n",
    "    all_indices.append(neighborhoods[n][:conf.block_size])\n",
    "tmp = np.unique(np.ravel(all_indices)).shape[0] / training_projected_X.shape[0]\n",
    "print(f\"{tmp*100:.1f}% of training stars end up in a block\")\n",
    "\n",
    "tmp = np.unique(np.ravel(all_indices)).shape[0] / parent_projected_X.shape[0]\n",
    "print(f\"{tmp*100:.1f}% of parent stars end up in a block\")"
   ]
  },
  {
   "cell_type": "code",
   "execution_count": null,
   "metadata": {},
   "outputs": [],
   "source": [
    "for size in 2 ** np.arange(12, 14+1):\n",
    "    all_indices = []\n",
    "    for n in range(len(neighborhoods)):\n",
    "        all_indices.append(neighborhoods[n][:size])\n",
    "    tmp = np.unique(np.ravel(all_indices)).shape[0] / training_projected_X.shape[0]\n",
    "    print(f\"{tmp*100:.1f}% of training stars end up in a neighborhood of size {size}\")"
   ]
  },
  {
   "cell_type": "code",
   "execution_count": null,
   "metadata": {},
   "outputs": [],
   "source": [
    "len(parent), parent_projected_X.shape"
   ]
  },
  {
   "cell_type": "code",
   "execution_count": null,
   "metadata": {},
   "outputs": [],
   "source": [
    "np.save(conf.neighborhood_index_file, \n",
    "        np.array(neighborhoods))"
   ]
  },
  {
   "cell_type": "code",
   "execution_count": null,
   "metadata": {},
   "outputs": [],
   "source": [
    "np.savez(conf.parent_closest_stoop_file, \n",
    "         idx=closest_stoop_idx, dist=closest_stoop_dist)"
   ]
  },
  {
   "cell_type": "code",
   "execution_count": null,
   "metadata": {},
   "outputs": [],
   "source": []
  }
 ],
 "metadata": {
  "kernelspec": {
   "display_name": "adrian conda base",
   "language": "python",
   "name": "conda-base"
  },
  "language_info": {
   "codemirror_mode": {
    "name": "ipython",
    "version": 3
   },
   "file_extension": ".py",
   "mimetype": "text/x-python",
   "name": "python",
   "nbconvert_exporter": "python",
   "pygments_lexer": "ipython3",
   "version": "3.9.13"
  },
  "toc": {
   "base_numbering": 1,
   "nav_menu": {},
   "number_sections": true,
   "sideBar": true,
   "skip_h1_title": false,
   "title_cell": "Table of Contents",
   "title_sidebar": "Contents",
   "toc_cell": false,
   "toc_position": {},
   "toc_section_display": true,
   "toc_window_display": false
  }
 },
 "nbformat": 4,
 "nbformat_minor": 4
}
