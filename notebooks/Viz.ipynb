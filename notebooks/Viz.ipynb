{
 "cells": [
  {
   "cell_type": "code",
   "execution_count": null,
   "id": "b53898a4",
   "metadata": {},
   "outputs": [],
   "source": [
    "import pathlib\n",
    "import astropy.coordinates as coord\n",
    "from astropy.stats import median_absolute_deviation as MAD\n",
    "import astropy.table as at\n",
    "import astropy.units as u\n",
    "import matplotlib as mpl\n",
    "import matplotlib.pyplot as plt\n",
    "%matplotlib inline\n",
    "import numpy as np\n",
    "import h5py\n",
    "from tqdm import tqdm\n",
    "from sklearn.neighbors import KDTree\n",
    "from pyia import GaiaData\n",
    "from scipy.stats import binned_statistic\n",
    "\n",
    "from helpers import load_data, Features"
   ]
  },
  {
   "cell_type": "markdown",
   "id": "21437b0d",
   "metadata": {},
   "source": [
    "Load APOGEE x Gaia data — see `Assemble-data.ipynb` for more information."
   ]
  },
  {
   "cell_type": "code",
   "execution_count": null,
   "id": "ec653859",
   "metadata": {},
   "outputs": [],
   "source": [
    "# Upper giant branch:\n",
    "g = load_data(\n",
    "    filters=dict(\n",
    "        TEFF=(3000, 5300), \n",
    "        LOGG=(-0.5, 2.3),\n",
    "        M_H=(-3, None),\n",
    "        phot_bp_mean_mag=(None, 15*u.mag),\n",
    "        TEFF_ERR=(None, 100)\n",
    "    )\n",
    ")\n",
    "len(g)"
   ]
  },
  {
   "cell_type": "code",
   "execution_count": null,
   "id": "02123e33",
   "metadata": {},
   "outputs": [],
   "source": [
    "bprp = (g.phot_bp_mean_mag - g.phot_rp_mean_mag).value\n",
    "mg = (g.phot_g_mean_mag - g.get_distance(allow_negative=True).distmod).value"
   ]
  },
  {
   "cell_type": "code",
   "execution_count": null,
   "id": "e696143e",
   "metadata": {},
   "outputs": [],
   "source": [
    "fig, axes = plt.subplots(1, 2, figsize=(10, 5))\n",
    "\n",
    "ax = axes[0]\n",
    "H, xb, yb, _ = ax.hist2d(\n",
    "    g.TEFF,\n",
    "    g.LOGG,\n",
    "    bins=(\n",
    "        np.linspace(3000, 8000, 128),\n",
    "        np.linspace(-0.5, 5.5, 128)\n",
    "    ),\n",
    "    norm=mpl.colors.LogNorm()\n",
    ")\n",
    "ax.set_xlim(xb.max(), xb.min())\n",
    "ax.set_ylim(yb.max(), yb.min())\n",
    "ax.set_xlabel('TEFF')\n",
    "ax.set_ylabel('LOGG')\n",
    "\n",
    "ax = axes[1]\n",
    "H, xb, yb, _ = ax.hist2d(\n",
    "    bprp,\n",
    "    mg,\n",
    "    bins=(\n",
    "        np.linspace(-0.5, 3, 128),\n",
    "        np.linspace(-4, 10.5, 128)\n",
    "    ),\n",
    "    norm=mpl.colors.LogNorm()\n",
    ")\n",
    "ax.set_xlim(xb.min(), xb.max())\n",
    "ax.set_ylim(yb.max(), yb.min())\n",
    "ax.set_xlabel('BP-RP')\n",
    "ax.set_ylabel('$M_G$')\n",
    "\n",
    "fig.tight_layout()"
   ]
  },
  {
   "cell_type": "code",
   "execution_count": null,
   "id": "224f8897",
   "metadata": {},
   "outputs": [],
   "source": [
    "label_name = 'TEFF'\n",
    "label_y = g[label_name]\n",
    "label_yerr = g[label_name + '_ERR']"
   ]
  },
  {
   "cell_type": "markdown",
   "id": "8e214073",
   "metadata": {},
   "source": [
    "TODO: binned_statistic on errorbar distributions"
   ]
  },
  {
   "cell_type": "code",
   "execution_count": null,
   "id": "600e02fd",
   "metadata": {},
   "outputs": [],
   "source": [
    "fig, axes = plt.subplots(\n",
    "    5, 5, \n",
    "    figsize=(12, 12),\n",
    "    sharex=True, \n",
    "    constrained_layout=True\n",
    ")\n",
    "\n",
    "for i, ax in enumerate(axes.flat, start=1):\n",
    "    val = g.bp[:, i] / g.bp[:, 0]\n",
    "    val_err = val * np.sqrt((g.bp_err[:, i] / g.bp[:, i])**2 + (g.bp_err[:, 0] / g.bp[:, 0])**2)\n",
    "    \n",
    "    ax.errorbar(\n",
    "        label_y,\n",
    "        val,\n",
    "        xerr=label_yerr,\n",
    "        yerr=val_err,\n",
    "        ls='none', marker='o', mew=0, ms=1,\n",
    "        elinewidth=0.75, ecolor='tab:blue',\n",
    "        alpha=0.5\n",
    "    )\n",
    "    \n",
    "    med = np.nanpercentile(val, 50)\n",
    "    lim = np.nanpercentile(val, [16, 84])\n",
    "    lim = 3 * (lim[1] - lim[0])/2\n",
    "    ax.set_ylim(med - lim, med + lim)\n",
    "    \n",
    "    ax.yaxis.set_visible(False)\n",
    "    \n",
    "fig.suptitle('BP', fontsize=24)"
   ]
  },
  {
   "cell_type": "code",
   "execution_count": null,
   "id": "9214a7b5",
   "metadata": {},
   "outputs": [],
   "source": [
    "fig, axes = plt.subplots(\n",
    "    5, 5, \n",
    "    figsize=(12, 12),\n",
    "    sharex=True, \n",
    "    constrained_layout=True\n",
    ")\n",
    "\n",
    "for i, ax in enumerate(axes.flat, start=1):\n",
    "    val = g.rp[:, i] / g.rp[:, 0]\n",
    "    val_err = val * np.sqrt((g.rp_err[:, i] / g.rp[:, i])**2 + (g.rp_err[:, 0] / g.rp[:, 0])**2)\n",
    "    \n",
    "    ax.errorbar(\n",
    "        label_y,\n",
    "        val,\n",
    "        xerr=label_yerr,\n",
    "        yerr=val_err,\n",
    "        ls='none', marker='o', mew=0, ms=1,\n",
    "        elinewidth=0.75, ecolor='tab:blue',\n",
    "        alpha=0.5\n",
    "    )\n",
    "    \n",
    "    med = np.nanpercentile(val, 50)\n",
    "    lim = np.nanpercentile(val, [16, 84])\n",
    "    lim = 3 * (lim[1] - lim[0])/2\n",
    "    ax.set_ylim(med - lim, med + lim)\n",
    "    \n",
    "    ax.yaxis.set_visible(False)\n",
    "    \n",
    "fig.suptitle('RP', fontsize=24)"
   ]
  },
  {
   "cell_type": "code",
   "execution_count": null,
   "id": "d735673a",
   "metadata": {},
   "outputs": [],
   "source": []
  }
 ],
 "metadata": {
  "kernelspec": {
   "display_name": "adrian conda base",
   "language": "python",
   "name": "conda-base"
  },
  "language_info": {
   "codemirror_mode": {
    "name": "ipython",
    "version": 3
   },
   "file_extension": ".py",
   "mimetype": "text/x-python",
   "name": "python",
   "nbconvert_exporter": "python",
   "pygments_lexer": "ipython3",
   "version": "3.9.13"
  },
  "toc": {
   "base_numbering": 1,
   "nav_menu": {},
   "number_sections": true,
   "sideBar": true,
   "skip_h1_title": false,
   "title_cell": "Table of Contents",
   "title_sidebar": "Contents",
   "toc_cell": false,
   "toc_position": {},
   "toc_section_display": true,
   "toc_window_display": true
  }
 },
 "nbformat": 4,
 "nbformat_minor": 5
}
